{
  "nbformat": 4,
  "nbformat_minor": 0,
  "metadata": {
    "colab": {
      "provenance": [],
      "gpuType": "T4"
    },
    "kernelspec": {
      "name": "python3",
      "display_name": "Python 3"
    },
    "language_info": {
      "name": "python"
    },
    "accelerator": "GPU"
  },
  "cells": [
    {
      "cell_type": "code",
      "source": [
        "!wget https://developer.download.nvidia.com/compute/cuda/repos/ubuntu2204/x86_64/cuda-keyring_1.1-1_all.deb\n",
        "!dpkg -i cuda-keyring_1.1-1_all.deb\n",
        "!apt-get update\n",
        "!apt-get -y install cuquantum\n",
        "\n",
        "!pip3 install matplotlib\n",
        "!pip3 install qiskit\n",
        "!pip3 install qiskit-aer\n",
        "!pip3 install qiskit-aer-gpu\n",
        "!pip3 install qiskit_algorithms\n",
        "!pip3 install pylatexenc\n",
        "!pip3 install cupy-cuda12x\n",
        "!pip3 install cuquantum-python\n",
        "!pip3 install ipywidgets"
      ],
      "metadata": {
        "id": "AX_Pgpg63M9-"
      },
      "execution_count": null,
      "outputs": []
    },
    {
      "cell_type": "code",
      "execution_count": null,
      "metadata": {
        "id": "arMTUU1behFC"
      },
      "outputs": [],
      "source": [
        "from qiskit import QuantumCircuit, Aer, transpile, assemble, execute\n",
        "from qiskit.quantum_info import Statevector\n",
        "from qiskit_algorithms import Grover, AmplificationProblem\n",
        "from qiskit.primitives import Sampler\n",
        "from qiskit.circuit.library import GroverOperator, QuantumVolume\n",
        "from qiskit.utils import QuantumInstance\n",
        "from qiskit.providers.aer import AerSimulator\n",
        "\n",
        "import numpy as np\n",
        "import matplotlib.pyplot as pl\n",
        "%matplotlib inline"
      ]
    },
    {
      "cell_type": "markdown",
      "source": [
        "#**Encoding vectors as quantum states**\n",
        "\n",
        "The **encode_vector_as_quantum_state()** function encodes a classical vector into a quantum state using amplitude encoding, which is a process that maps classical data to the amplitudes of a quantum state.\n",
        "\n",
        "###**Process of amplitude encoding:**\n",
        "The input vector is first normalized to ensure that its amplitudes can be correctly represented in a quantum state because a quantum state must have amplitudes that square to one, reflecting the probability interpretation in quantum mechanics. The number of qubits is determined based on the length of the input vector. For a vector of lengths ***N***, you need **[Log<sub>2</sub>(N)]** qubits, since each qubit is added to the system doubles the dimensionality of the state space. Finally, **the initialize()** method is used to set the state of these qubits to represent the normalized input vector. The method prepapres a quantum state whose amplitudes correspond to the elements of the input vector. In other words, the initialize method dynamically generates a sequence of gates to create a state where the amplitudes match the elements of normalized input vector.\n",
        "\n",
        "###**Execution:**\n",
        "**Input:** A classical data vector (a np array) that we want to encode as a quantum state. The vector represents the classical information that we want to process quantum-mechanically.\n",
        "\n",
        "**Output:** Returns two items. A **QuantumCircuit** Qiskit object that represents the quantum circuit used for encoding the input vector and the resulting **state vector** of the quantum state after the circuit is executed."
      ],
      "metadata": {
        "id": "8PmqxymqZQI0"
      }
    },
    {
      "cell_type": "code",
      "source": [
        "def amplitude_encode(vector):\n",
        "\n",
        "    # Conditional input validation\n",
        "    if not isinstance(vector, np.ndarray):\n",
        "        raise TypeError(\"Input must be a numpy array.\")\n",
        "\n",
        "    if vector.size == 0:\n",
        "        raise ValueError(\"Input vector cannot be empty.\")\n",
        "\n",
        "    if np.all(vector == 0):\n",
        "        raise ValueError(\"Input vector cannot be a zero vector.\")\n",
        "\n",
        "    # Normalization\n",
        "    norm_vector = vector / np.linalg.norm(vector)\n",
        "\n",
        "    # Quantum circuit\n",
        "    num_qubits = np.ceil(np.log2(len(vector))).astype(int)\n",
        "    qc = QuantumCircuit(num_qubits)\n",
        "    qc.initialize(norm_vector, range(num_qubits))\n",
        "\n",
        "    return qc\n",
        "\n",
        "def quantum_state_vector(encoded_vector, visualize=False):\n",
        "    backend = Aer.get_backend('statevector_simulator')\n",
        "    job = backend.run(transpile(encoded_vector, backend))\n",
        "    state = job.result().get_statevector()\n",
        "\n",
        "    if visualize:\n",
        "        print(\"Vector Encoding Circuit drawn\")\n",
        "        encoded_vector.draw(output='mpl', filename='encode_vector_as_quantum_state.png')\n",
        "\n",
        "    return encoded_vector, state"
      ],
      "metadata": {
        "id": "ewgeFbfGYq68"
      },
      "execution_count": null,
      "outputs": []
    },
    {
      "cell_type": "markdown",
      "source": [
        "#**Swap Test**\n",
        "\n",
        "The **swap_test()** function is a critical part of the quantum attention mechanism as it estimates the similarity between two quantum states, which is analogous to the dot product calculation in classical attention mechanisms. This is done to estimate the attention scores, which in classical attention mechanism, is obtained through dot product calculations between query and key vectors. This is important because it tells the mechanism which parts of the input it should pay more/less attention to and that is the central feature of attention mechanisms. The result of the swap test shows ow the value vectors will be weighted and combined, thus completing the quantum analog of the attention calculation.\n",
        "\n",
        "###**The swap test steps:**\n",
        "1.   The function first checks that the two input quantum circuits have the same number of qubits because the swap test requires that the states be comparable in dimension.\n",
        "2.   An ancilla qubit is introduced at the beginning of the new circuit. Ancilla qubit is used to control the subsequent swap operations.\n",
        "3.   The states of **qc1** and **qc2** are composed onto the new circuit. This combines the two circuits into one, with each original circuit's state occupying a separate register.\n",
        "4.   The ancilla qubit is put into a superposition state using a **Hadamard gate (H)**. A series of controlled swap gates are applied, which are controlled by the ancilla qubit. The gates swap the corresponding qubits of **qc1** and **qc2** if the ancilla qubit is in the state **|1>**. Then, another Hadamard gate is applied to the ancilla qubit.\n",
        "5.   The ancilla qubit is measured and the output of the measurement is used to infer the similarity between the quantum states of **qc1** and **qc2**.\n",
        "\n",
        "\n",
        "###**Execution:**\n",
        "**Input:** Two quantum circuits that represent the states for which we want to estimate the dot product. These correspond to the quantum states of **query (Q)** and **key (K)** vectors in the attention mechanism.\n",
        "\n",
        "**Output:** Returns a **QuantumCircuit** Qiskit object that represents the quantum circuit  which performs the swap test between **qc1** and **qc2** (the two inputs).\n",
        "\n",
        "###**Dynamics:**\n",
        "The probability of measirng the ancilla qubit in state **|0>** is related to the inner product/similarity of the quantum states from **qc1** to **qc2**. If the states are identifcal, the probability of measing **|0>** is 1. If they are orthogonal, the probability is 0.5. For other cases, the probability is between 0.5 and 1."
      ],
      "metadata": {
        "id": "WnF1plogpTBZ"
      }
    },
    {
      "cell_type": "code",
      "source": [
        "def swap_test(qc1, qc2, visualize=False):\n",
        "    if qc1.num_qubits != qc2.num_qubits:\n",
        "        raise ValueError(\"Both quantum circuits must have the same number of qubits.\")\n",
        "\n",
        "    num_qubits = qc1.num_qubits\n",
        "\n",
        "    qc = QuantumCircuit(num_qubits * 2 + 1, 1)\n",
        "    qc.compose(qc1, qubits=range(1, num_qubits + 1), inplace=True)\n",
        "    qc.compose(qc2, qubits=range(num_qubits + 1, 2 * num_qubits + 1), inplace=True)\n",
        "\n",
        "    qc.h(0)\n",
        "    for i in range(num_qubits):\n",
        "        qc.cswap(0, i + 1, num_qubits + i + 1)\n",
        "    qc.h(0)\n",
        "\n",
        "    qc.measure(0, 0)\n",
        "\n",
        "    if visualize:\n",
        "        print(\"Swap Test Circuit drawn\")\n",
        "        qc.draw(output='mpl', filename='swap_test_circuit.png')\n",
        "\n",
        "    return qc"
      ],
      "metadata": {
        "id": "zQtJ-c65jmUY"
      },
      "execution_count": null,
      "outputs": []
    },
    {
      "cell_type": "markdown",
      "source": [
        "#**Measurement**\n",
        "\n",
        "The purpose of **measure_state()** function is simple. It measures the quantum state produced by the swap test and interprets the results to derive attention scores.\n",
        "\n",
        "###**Measurement steps:**\n",
        "1.   As standard, the function begins with input validation to see if it is indeed of type **QuantumCircuit**.\n",
        "2.   The circuit is run on a backend simulator from **Aer** with a specified number of shots (number of iterations).\n",
        "3.   The circuit includes measurements gates that measure the qubit states. The **execute()** funtion simulates the measurements and returns a result object containing the counts of each possible outcome.\n",
        "4.   The counts are converted to probabilities/attention scores by dividing the count of each outcome by the total number of shots."
      ],
      "metadata": {
        "id": "x57q5SpJDzeW"
      }
    },
    {
      "cell_type": "code",
      "source": [
        "def measure_state(qc, num_shots=1024):\n",
        "    # Conditional input validation\n",
        "    if not isinstance(qc, QuantumCircuit):\n",
        "        raise TypeError(\"Input must be a QuantumCircuit.\")\n",
        "\n",
        "    if not isinstance(num_shots, int) or num_shots <= 0:\n",
        "        raise ValueError(\"num_shots must be a positive integer.\")\n",
        "\n",
        "    backend = Aer.get_backend('qasm_simulator')\n",
        "    job = execute(qc, backend, shots=num_shots)\n",
        "    result = job.result()\n",
        "    counts = result.get_counts()\n",
        "\n",
        "    attention_scores = {state: count / num_shots for state, count in counts.items()}\n",
        "\n",
        "    return attention_scores"
      ],
      "metadata": {
        "id": "5JeZEUtZjm2T"
      },
      "execution_count": null,
      "outputs": []
    },
    {
      "cell_type": "markdown",
      "source": [
        "#**Classical Components: Softmax & Weighted Sum**\n",
        "\n",
        "Standard Classical implementations of SoftMax and Weighted Sum.\n"
      ],
      "metadata": {
        "id": "0PwkIp79NeuQ"
      }
    },
    {
      "cell_type": "code",
      "source": [
        "def softmax(scores):\n",
        "    exp_scores = np.exp(np.array(list(scores.values())))\n",
        "    sum_exp_scores = np.sum(exp_scores)\n",
        "    softmax_scores = exp_scores / sum_exp_scores\n",
        "    return dict(zip(scores.keys(), softmax_scores))\n",
        "\n",
        "def weighted_sum_of_values(attention_scores, value_vectors):\n",
        "    # Conditional input validation\n",
        "    if not isinstance(value_vectors, np.ndarray):\n",
        "        raise TypeError(\"value_vectors must be a numpy array.\")\n",
        "\n",
        "    if not isinstance(attention_scores, dict):\n",
        "        raise TypeError(\"attention_scores must be a dictionary.\")\n",
        "\n",
        "    # Initialize the weighted sum vector\n",
        "    weighted_sum = np.zeros_like(value_vectors[0])\n",
        "\n",
        "    # Iterate over attention scores and value vectors\n",
        "    for state, score in attention_scores.items():\n",
        "        # Map the quantum state to an index for the value vector\n",
        "        index = int(state, 2)  # Assuming binary state representation\n",
        "        weighted_sum += score * value_vectors[index]\n",
        "\n",
        "    return weighted_sum"
      ],
      "metadata": {
        "id": "CKIFR-HEZvb2"
      },
      "execution_count": null,
      "outputs": []
    },
    {
      "cell_type": "markdown",
      "source": [
        "#**Inference with dummy values.**"
      ],
      "metadata": {
        "id": "aQqON4KUNqq3"
      }
    },
    {
      "cell_type": "code",
      "source": [
        "# Orthogonal and identical vectors\n",
        "Q1 = np.array([1, 0])\n",
        "K1 = np.array([0, 1])  # Orthogonal to Q1\n",
        "V1 = np.array([1, 1]) / np.sqrt(2)\n",
        "\n",
        "Q2 = np.array([1, 0])\n",
        "K2 = np.array([1, 0])  # Identical to Q2\n",
        "V2 = np.array([1, 1]) / np.sqrt(2)\n",
        "\n",
        "# Encoding both sets\n",
        "qc_Q1 = amplitude_encode(Q1)\n",
        "qc_K1 = amplitude_encode(K1)\n",
        "qc_V1 = amplitude_encode(V1)\n",
        "\n",
        "qc_Q2 = amplitude_encode(Q2)\n",
        "qc_K2 = amplitude_encode(K2)\n",
        "qc_V2 = amplitude_encode(V2)\n",
        "\n",
        "# Quantum state vectors for both sets\n",
        "qc_Q1_state_vector = quantum_state_vector(qc_Q1, visualize=True)\n",
        "qc_K1_state_vector = quantum_state_vector(qc_K1, visualize=True)\n",
        "qc_V1_state_vector = quantum_state_vector(qc_V1, visualize=True)\n",
        "\n",
        "qc_Q2_state_vector = quantum_state_vector(qc_Q2, visualize=True)\n",
        "qc_K2_state_vector = quantum_state_vector(qc_K2, visualize=True)\n",
        "qc_V1_state_vector = quantum_state_vector(qc_V2, visualize=True)\n",
        "\n",
        "# swap test for both tests\n",
        "swap_test_1 = swap_test(qc_Q1, qc_K1, visualize=True)\n",
        "swap_test_2 = swap_test(qc_Q2, qc_K2, visualize=True)\n",
        "\n",
        "# Measure and analyze the results\n",
        "measured_scores_1 = measure_state(swap_test_1)\n",
        "measured_scores_2 = measure_state(swap_test_2)\n",
        "\n",
        "print(\"Measured Scores for Orthogonal Vectors:\", measured_scores_1)\n",
        "print(\"Measured Scores for Identical Vectors:\", measured_scores_2)\n",
        "\n",
        "# Apply softmax to the measured attention scores\n",
        "normalized_scores_1 = softmax(measured_scores_1)\n",
        "normalized_scores_2 = softmax(measured_scores_2)\n",
        "\n",
        "print(\"Normalized Scores for Orthogonal Vectors:\", normalized_scores_1)\n",
        "print(\"Normalized Scores for Identical Vectors:\", normalized_scores_2)\n",
        "\n",
        "# Prepare value vectors for each set\n",
        "value_vectors_1 = np.array([V1, V1])  # Simplified for demonstration\n",
        "value_vectors_2 = np.array([V2, V2])  # Simplified for demonstration\n",
        "\n",
        "# Calculate the weighted sum of value vectors\n",
        "output_vector_1 = weighted_sum_of_values(normalized_scores_1, value_vectors_1)\n",
        "output_vector_2 = weighted_sum_of_values(normalized_scores_2, value_vectors_2)\n",
        "\n",
        "print(\"Output Vector for Orthogonal Vectors:\", output_vector_1)\n",
        "print(\"Output Vector for Identical Vectors:\", output_vector_2)"
      ],
      "metadata": {
        "colab": {
          "base_uri": "https://localhost:8080/"
        },
        "id": "Upm9ga2HvvCF",
        "outputId": "4217327a-1f78-413e-ecf1-f4aa70a018b7"
      },
      "execution_count": null,
      "outputs": [
        {
          "output_type": "stream",
          "name": "stdout",
          "text": [
            "Vector Encoding Circuit drawn\n"
          ]
        },
        {
          "output_type": "stream",
          "name": "stderr",
          "text": [
            "/usr/local/lib/python3.10/dist-packages/qiskit/visualization/circuit/matplotlib.py:266: FutureWarning: The default matplotlib drawer scheme will be changed to \"iqp\" in a following release. To silence this warning, specify the current default explicitly as style=\"clifford\", or the new default as style=\"iqp\".\n",
            "  self._style, def_font_ratio = load_style(self._style)\n"
          ]
        },
        {
          "output_type": "stream",
          "name": "stdout",
          "text": [
            "Vector Encoding Circuit drawn\n",
            "Vector Encoding Circuit drawn\n",
            "Vector Encoding Circuit drawn\n",
            "Vector Encoding Circuit drawn\n",
            "Vector Encoding Circuit drawn\n",
            "Swap Test Circuit drawn\n",
            "Swap Test Circuit drawn\n",
            "Measured Scores for Orthogonal Vectors: {'1': 0.4873046875, '0': 0.5126953125}\n",
            "Measured Scores for Identical Vectors: {'0': 1.0}\n",
            "Normalized Scores for Orthogonal Vectors: {'1': 0.49365268474729923, '0': 0.5063473152527008}\n",
            "Normalized Scores for Identical Vectors: {'0': 1.0}\n",
            "Output Vector for Orthogonal Vectors: [0.70710678 0.70710678]\n",
            "Output Vector for Identical Vectors: [0.70710678 0.70710678]\n"
          ]
        }
      ]
    },
    {
      "cell_type": "code",
      "source": [],
      "metadata": {
        "id": "CZ3OR2jqYBjr"
      },
      "execution_count": null,
      "outputs": []
    }
  ]
}